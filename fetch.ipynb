{
 "cells": [
  {
   "cell_type": "code",
   "execution_count": null,
   "metadata": {},
   "outputs": [],
   "source": [
    "# %%capture\n",
    "# import IPython\n",
    "# import sys\n",
    "\n",
    "# !{sys.executable} -m pip install ipywidgets\n",
    "# IPython.Application.instance().kernel.do_shutdown(True)  # has to restart kernel so changes are used"
   ]
  },
  {
   "cell_type": "code",
   "execution_count": 8,
   "metadata": {},
   "outputs": [],
   "source": [
    "import requests\n",
    "from prettytable import PrettyTable\n",
    "import pandas as pd\n",
    "import time\n",
    "from tqdm.notebook import tqdm\n",
    "from collections import Counter\n",
    "import matplotlib.pyplot as plt\n",
    "import pymongo\n",
    "from pymongo import MongoClient"
   ]
  },
  {
   "cell_type": "code",
   "execution_count": 39,
   "metadata": {},
   "outputs": [],
   "source": [
    "client = MongoClient(conn_string)\n",
    "db = client.test\n",
    "db = client[\"Git-Repos\"]\n"
   ]
  },
  {
   "cell_type": "code",
   "execution_count": 40,
   "metadata": {},
   "outputs": [],
   "source": [
    "collection = db.create_collection(\"repos-count-1000\")"
   ]
  },
  {
   "cell_type": "code",
   "execution_count": 53,
   "metadata": {},
   "outputs": [
    {
     "data": {
      "application/vnd.jupyter.widget-view+json": {
       "model_id": "35d048d58fa4400683c24ca14b1ee51d",
       "version_major": 2,
       "version_minor": 0
      },
      "text/plain": [
       "  0%|          | 0/10 [00:00<?, ?it/s]"
      ]
     },
     "metadata": {},
     "output_type": "display_data"
    }
   ],
   "source": [
    "dfs = []\n",
    "PAGES_TO_GET = 10\n",
    "\n",
    "for idx in tqdm(range(PAGES_TO_GET)):\n",
    "  api_url = f'https://api.github.com/search/repositories?q=Q&page={idx+1}&per_page=100'\n",
    "  try:\n",
    "    response = requests.get(api_url)\n",
    "    data =  response.json()\n",
    "    collection.insert_many(data['items'])\n",
    "    # df = pd.DataFrame.from_dict(data['items'], orient='columns')\n",
    "    # dfs.append(df)\n",
    "  except:\n",
    "    print(\"failed\")\n",
    "    # continue\n",
    "    break\n",
    "  # time.sleep(1)\n",
    "\n",
    "# df = pd.concat(dfs)\n"
   ]
  }
 ],
 "metadata": {
  "kernelspec": {
   "display_name": "Python 3",
   "language": "python",
   "name": "python3"
  },
  "language_info": {
   "codemirror_mode": {
    "name": "ipython",
    "version": 3
   },
   "file_extension": ".py",
   "mimetype": "text/x-python",
   "name": "python",
   "nbconvert_exporter": "python",
   "pygments_lexer": "ipython3",
   "version": "3.11.1"
  },
  "orig_nbformat": 4,
  "vscode": {
   "interpreter": {
    "hash": "c91da4a34044f24fa12d87a4bda96c98674b98801e4e175162dfca7b6428c6d5"
   }
  }
 },
 "nbformat": 4,
 "nbformat_minor": 2
}
